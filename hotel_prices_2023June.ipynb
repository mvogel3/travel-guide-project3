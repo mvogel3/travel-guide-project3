{
 "cells": [
  {
   "cell_type": "code",
   "execution_count": null,
   "id": "0d0d2c02",
   "metadata": {},
   "outputs": [],
   "source": [
    "# Importing Splinter, BeautifulSoup, Pandas, and REGEX\n",
    "from splinter import Browser\n",
    "from bs4 import BeautifulSoup as soup\n",
    "import pandas as pd\n",
    "import re"
   ]
  },
  {
   "cell_type": "code",
   "execution_count": null,
   "id": "51046173",
   "metadata": {},
   "outputs": [],
   "source": [
    "browser = Browser('chrome')"
   ]
  },
  {
   "cell_type": "code",
   "execution_count": null,
   "id": "1f7a552f",
   "metadata": {},
   "outputs": [],
   "source": [
    "# url for the second week of June\n",
    "# url2 = 'https://www.expedia.com/Hotel-Search?HotelID=3016212&adults=2&children=&destination=New%20York%2C%20New%20York%2C%20United%20States%20of%20America&endDate=2023-06-10&gclid=CjwKCAjwpayjBhAnEiwA-7ena7JGaI1rwCkOUycQoEp0ICRA_jkQo7Qt2Wwm4iOrBE-_4GP68HEzBRoC6xIQAvD_BwE&latLong=&locale=en_US&mapBounds=&pwaDialog=&regionId=2621&semcid=US.UB.GOOGLE.PT-c-EN.HOTEL&semdtl=a115093754954.b1127871358663.g1kwd-42777028833.l1.e1c.m1CjwKCAjwpayjBhAnEiwA-7ena7JGaI1rwCkOUycQoEp0ICRA_jkQo7Qt2Wwm4iOrBE-_4GP68HEzBRoC6xIQAvD_BwE.r14d4f421864e74f5bf75be17391f1a3135e350e186a47a1456f6c4f1617a2988c.c10RNuppwrQ5tvtmka9Z9sWg.j19032180.k1.d1558118514604.h1e.i1.n1.o1.p1.q1.s1.t1.x1.f1.u1.v1.w1&siteid=1&sort=PRICE_LOW_TO_HIGH&startDate=2023-06-09&theme=&useRewards=false&userIntent='\n",
    "# url3 = 'https://www.expedia.com/Hotel-Search?HotelID=3016212&adults=2&children=&destination=New%20York%2C%20New%20York%2C%20United%20States%20of%20America&endDate=2023-06-17&gclid=CjwKCAjwpayjBhAnEiwA-7ena7JGaI1rwCkOUycQoEp0ICRA_jkQo7Qt2Wwm4iOrBE-_4GP68HEzBRoC6xIQAvD_BwE&latLong=&locale=en_US&mapBounds=&pwaDialog=&regionId=2621&semcid=US.UB.GOOGLE.PT-c-EN.HOTEL&semdtl=a115093754954.b1127871358663.g1kwd-42777028833.l1.e1c.m1CjwKCAjwpayjBhAnEiwA-7ena7JGaI1rwCkOUycQoEp0ICRA_jkQo7Qt2Wwm4iOrBE-_4GP68HEzBRoC6xIQAvD_BwE.r14d4f421864e74f5bf75be17391f1a3135e350e186a47a1456f6c4f1617a2988c.c10RNuppwrQ5tvtmka9Z9sWg.j19032180.k1.d1558118514604.h1e.i1.n1.o1.p1.q1.s1.t1.x1.f1.u1.v1.w1&siteid=1&sort=PRICE_LOW_TO_HIGH&startDate=2023-06-16&theme=&useRewards=false&userIntent='\n",
    "# url4 = 'https://www.expedia.com/Hotel-Search?HotelID=3016212&adults=2&children=&destination=New%20York%2C%20New%20York%2C%20United%20States%20of%20America&endDate=2023-06-24&gclid=CjwKCAjwpayjBhAnEiwA-7ena7JGaI1rwCkOUycQoEp0ICRA_jkQo7Qt2Wwm4iOrBE-_4GP68HEzBRoC6xIQAvD_BwE&latLong=&locale=en_US&mapBounds=&pwaDialog=&regionId=2621&semcid=US.UB.GOOGLE.PT-c-EN.HOTEL&semdtl=a115093754954.b1127871358663.g1kwd-42777028833.l1.e1c.m1CjwKCAjwpayjBhAnEiwA-7ena7JGaI1rwCkOUycQoEp0ICRA_jkQo7Qt2Wwm4iOrBE-_4GP68HEzBRoC6xIQAvD_BwE.r14d4f421864e74f5bf75be17391f1a3135e350e186a47a1456f6c4f1617a2988c.c10RNuppwrQ5tvtmka9Z9sWg.j19032180.k1.d1558118514604.h1e.i1.n1.o1.p1.q1.s1.t1.x1.f1.u1.v1.w1&siteid=1&sort=PRICE_LOW_TO_HIGH&startDate=2023-06-23&theme=&useRewards=false&userIntent='\n",
    "url5 = 'https://www.expedia.com/Hotel-Search?HotelID=3016212&adults=2&children=&destination=New%20York%2C%20New%20York%2C%20United%20States%20of%20America&endDate=2023-07-01&gclid=CjwKCAjwpayjBhAnEiwA-7ena7JGaI1rwCkOUycQoEp0ICRA_jkQo7Qt2Wwm4iOrBE-_4GP68HEzBRoC6xIQAvD_BwE&latLong=&locale=en_US&mapBounds=&pwaDialog=&regionId=2621&semcid=US.UB.GOOGLE.PT-c-EN.HOTEL&semdtl=a115093754954.b1127871358663.g1kwd-42777028833.l1.e1c.m1CjwKCAjwpayjBhAnEiwA-7ena7JGaI1rwCkOUycQoEp0ICRA_jkQo7Qt2Wwm4iOrBE-_4GP68HEzBRoC6xIQAvD_BwE.r14d4f421864e74f5bf75be17391f1a3135e350e186a47a1456f6c4f1617a2988c.c10RNuppwrQ5tvtmka9Z9sWg.j19032180.k1.d1558118514604.h1e.i1.n1.o1.p1.q1.s1.t1.x1.f1.u1.v1.w1&siteid=1&sort=PRICE_LOW_TO_HIGH&startDate=2023-06-30&theme=&useRewards=false&userIntent='\n",
    "# visiting the url for the desired weekend\n",
    "browser.visit(url5)"
   ]
  },
  {
   "cell_type": "code",
   "execution_count": null,
   "id": "ddf38f02",
   "metadata": {},
   "outputs": [],
   "source": [
    "# using xpath of the button to click it 15 times\n",
    "xpath = '/html/body/div[2]/div[1]/div/div[1]/main/div/div/div/div/div[2]/section[2]/div/div[2]/div/div[2]/div[1]/section/button'\n",
    "browser.find_by_xpath(xpath).click()"
   ]
  },
  {
   "cell_type": "code",
   "execution_count": null,
   "id": "22b6fb28",
   "metadata": {},
   "outputs": [],
   "source": [
    "xpath = '/html/body/div[2]/div[1]/div/div[1]/main/div/div/div/div/div[2]/section[2]/div/div[2]/div/div[2]/div[1]/section/button'\n",
    "browser.find_by_xpath(xpath).click()"
   ]
  },
  {
   "cell_type": "code",
   "execution_count": null,
   "id": "389bebf3",
   "metadata": {},
   "outputs": [],
   "source": [
    "xpath = '/html/body/div[2]/div[1]/div/div[1]/main/div/div/div/div/div[2]/section[2]/div/div[2]/div/div[2]/div[1]/section/button'\n",
    "browser.find_by_xpath(xpath).click()"
   ]
  },
  {
   "cell_type": "code",
   "execution_count": null,
   "id": "f1d2bbfa",
   "metadata": {},
   "outputs": [],
   "source": [
    "xpath = '/html/body/div[2]/div[1]/div/div[1]/main/div/div/div/div/div[2]/section[2]/div/div[2]/div/div[2]/div[1]/section/button'\n",
    "browser.find_by_xpath(xpath).click()"
   ]
  },
  {
   "cell_type": "code",
   "execution_count": null,
   "id": "f2eaf078",
   "metadata": {},
   "outputs": [],
   "source": [
    "xpath = '/html/body/div[2]/div[1]/div/div[1]/main/div/div/div/div/div[2]/section[2]/div/div[2]/div/div[2]/div[1]/section/button'\n",
    "browser.find_by_xpath(xpath).click()"
   ]
  },
  {
   "cell_type": "code",
   "execution_count": null,
   "id": "56987ae0",
   "metadata": {},
   "outputs": [],
   "source": [
    "xpath = '/html/body/div[2]/div[1]/div/div[1]/main/div/div/div/div/div[2]/section[2]/div/div[2]/div/div[2]/div[1]/section/button'\n",
    "browser.find_by_xpath(xpath).click()"
   ]
  },
  {
   "cell_type": "code",
   "execution_count": null,
   "id": "5549a01c",
   "metadata": {},
   "outputs": [],
   "source": [
    "xpath = '/html/body/div[2]/div[1]/div/div[1]/main/div/div/div/div/div[2]/section[2]/div/div[2]/div/div[2]/div[1]/section/button'\n",
    "browser.find_by_xpath(xpath).click()"
   ]
  },
  {
   "cell_type": "code",
   "execution_count": null,
   "id": "09160e0e",
   "metadata": {},
   "outputs": [],
   "source": [
    "xpath = '/html/body/div[2]/div[1]/div/div[1]/main/div/div/div/div/div[2]/section[2]/div/div[2]/div/div[2]/div[1]/section/button'\n",
    "browser.find_by_xpath(xpath).click()"
   ]
  },
  {
   "cell_type": "code",
   "execution_count": null,
   "id": "d39a9917",
   "metadata": {},
   "outputs": [],
   "source": [
    "xpath = '/html/body/div[2]/div[1]/div/div[1]/main/div/div/div/div/div[2]/section[2]/div/div[2]/div/div[2]/div[1]/section/button'\n",
    "browser.find_by_xpath(xpath).click()"
   ]
  },
  {
   "cell_type": "code",
   "execution_count": null,
   "id": "0a170b10",
   "metadata": {},
   "outputs": [],
   "source": [
    "xpath = '/html/body/div[2]/div[1]/div/div[1]/main/div/div/div/div/div[2]/section[2]/div/div[2]/div/div[2]/div[1]/section/button'\n",
    "browser.find_by_xpath(xpath).click()"
   ]
  },
  {
   "cell_type": "code",
   "execution_count": null,
   "id": "0fae2885",
   "metadata": {},
   "outputs": [],
   "source": [
    "xpath = '/html/body/div[2]/div[1]/div/div[1]/main/div/div/div/div/div[2]/section[2]/div/div[2]/div/div[2]/div[1]/section/button'\n",
    "browser.find_by_xpath(xpath).click()"
   ]
  },
  {
   "cell_type": "code",
   "execution_count": null,
   "id": "ec963944",
   "metadata": {},
   "outputs": [],
   "source": [
    "xpath = '/html/body/div[2]/div[1]/div/div[1]/main/div/div/div/div/div[2]/section[2]/div/div[2]/div/div[2]/div[1]/section/button'\n",
    "browser.find_by_xpath(xpath).click()"
   ]
  },
  {
   "cell_type": "code",
   "execution_count": null,
   "id": "d3dc509a",
   "metadata": {},
   "outputs": [],
   "source": [
    "xpath = '/html/body/div[2]/div[1]/div/div[1]/main/div/div/div/div/div[2]/section[2]/div/div[2]/div/div[2]/div[1]/section/button'\n",
    "browser.find_by_xpath(xpath).click()"
   ]
  },
  {
   "cell_type": "code",
   "execution_count": null,
   "id": "78219b27",
   "metadata": {},
   "outputs": [],
   "source": [
    "xpath = '/html/body/div[2]/div[1]/div/div[1]/main/div/div/div/div/div[2]/section[2]/div/div[2]/div/div[2]/div[1]/section/button'\n",
    "browser.find_by_xpath(xpath).click()"
   ]
  },
  {
   "cell_type": "code",
   "execution_count": null,
   "id": "8f91edc9",
   "metadata": {},
   "outputs": [],
   "source": [
    "xpath = '/html/body/div[2]/div[1]/div/div[1]/main/div/div/div/div/div[2]/section[2]/div/div[2]/div/div[2]/div[1]/section/button'\n",
    "browser.find_by_xpath(xpath).click()"
   ]
  },
  {
   "cell_type": "code",
   "execution_count": null,
   "id": "02b2b26f",
   "metadata": {},
   "outputs": [],
   "source": [
    "xpath = '/html/body/div[2]/div[1]/div/div[1]/main/div/div/div/div/div[2]/section[2]/div/div[2]/div/div[2]/div[1]/section/button'\n",
    "browser.find_by_xpath(xpath).click()"
   ]
  },
  {
   "cell_type": "code",
   "execution_count": null,
   "id": "e265815c",
   "metadata": {},
   "outputs": [],
   "source": [
    "# Creating a Beautiful Soup object after clicking all the buttons\n",
    "html = browser.html\n",
    "soup = soup(html, 'html.parser')"
   ]
  },
  {
   "cell_type": "code",
   "execution_count": null,
   "id": "71eca696",
   "metadata": {},
   "outputs": [],
   "source": [
    "# grabbing the info box for each hotel and printing the results\n",
    "hotel = soup.find_all('div', class_='uitk-layout-grid uitk-layout-grid-has-auto-columns uitk-layout-grid-has-columns-by-medium uitk-layout-grid-display-grid')"
   ]
  },
  {
   "cell_type": "code",
   "execution_count": null,
   "id": "8f7337ca",
   "metadata": {},
   "outputs": [],
   "source": [
    "hotel"
   ]
  },
  {
   "cell_type": "code",
   "execution_count": null,
   "id": "91f47dda",
   "metadata": {},
   "outputs": [],
   "source": [
    "# making sure the text exists\n",
    "for h in hotel:\n",
    "    print(h.text)"
   ]
  },
  {
   "cell_type": "code",
   "execution_count": null,
   "id": "957e8dbe",
   "metadata": {},
   "outputs": [],
   "source": [
    "# grabbing the hotel names by tag and class and appending the text to a list\n",
    "hn = []\n",
    "for h in hotel:\n",
    "    hotel_name = h.find_all('h4', class_='uitk-heading uitk-heading-5 overflow-wrap uitk-layout-grid-item uitk-layout-grid-item-has-row-start')\n",
    "#     print(hotel_name)\n",
    "    for name in hotel_name:\n",
    "        hotel_names = name.text\n",
    "#         print(hotel_names)\n",
    "        hn.append(hotel_names)"
   ]
  },
  {
   "cell_type": "code",
   "execution_count": null,
   "id": "5a0fa544",
   "metadata": {},
   "outputs": [],
   "source": [
    "# checking that the list was populated\n",
    "hn"
   ]
  },
  {
   "cell_type": "code",
   "execution_count": null,
   "id": "3517d69b",
   "metadata": {},
   "outputs": [],
   "source": [
    "# same for advertised price\n",
    "p = []\n",
    "for h in hotel:\n",
    "    hotel_price = h.find_all(class_=\"uitk-text uitk-type-300 uitk-text-default-theme is-visually-hidden\")\n",
    "    for price in hotel_price:\n",
    "        prices = price.text\n",
    "        p.append(prices)"
   ]
  },
  {
   "cell_type": "code",
   "execution_count": null,
   "id": "f171a14c",
   "metadata": {},
   "outputs": [],
   "source": [
    "# total price including taxes and fees\n",
    "t = []\n",
    "for h in hotel:\n",
    "    hotel_total = h.find_all(class_='uitk-text uitk-type-end uitk-type-200 uitk-text-default-theme')\n",
    "    for total in hotel_total:\n",
    "        totals = total.text\n",
    "        t.append(totals)"
   ]
  },
  {
   "cell_type": "code",
   "execution_count": null,
   "id": "c4a2caf7",
   "metadata": {},
   "outputs": [],
   "source": [
    "# distance from NYC\n",
    "d = []\n",
    "for h in hotel:\n",
    "    hotel_distance = h.find_all(class_='uitk-text uitk-text-spacing-half truncate-lines-2 uitk-type-300 uitk-text-default-theme')\n",
    "    for distance in hotel_distance:\n",
    "        miles = distance.text\n",
    "        d.append(miles)"
   ]
  },
  {
   "cell_type": "code",
   "execution_count": null,
   "id": "91c7c7cb",
   "metadata": {},
   "outputs": [],
   "source": [
    "# hotel rating\n",
    "r = []\n",
    "for h in hotel:\n",
    "    hotel_rating = h.find_all('span', class_='is-visually-hidden')\n",
    "    for rating in hotel_rating:\n",
    "        rate = rating.text\n",
    "        r.append(rate)"
   ]
  },
  {
   "cell_type": "code",
   "execution_count": null,
   "id": "68aa1381",
   "metadata": {},
   "outputs": [],
   "source": [
    "# whether the hotel is sold out\n",
    "s = []\n",
    "for h in hotel:\n",
    "    sold_out = h.find_all(class_='uitk-text uitk-type-end uitk-type-300 uitk-type-medium uitk-text-negative-theme')\n",
    "    for sold in sold_out:\n",
    "        out = sold.text\n",
    "        s.append(out)"
   ]
  },
  {
   "cell_type": "code",
   "execution_count": null,
   "id": "b0d2aaf0",
   "metadata": {},
   "outputs": [],
   "source": [
    "# checking the length of the lists\n",
    "len(hn)"
   ]
  },
  {
   "cell_type": "code",
   "execution_count": null,
   "id": "653384a5",
   "metadata": {},
   "outputs": [],
   "source": [
    "len(p)"
   ]
  },
  {
   "cell_type": "code",
   "execution_count": null,
   "id": "5b8cdf8d",
   "metadata": {},
   "outputs": [],
   "source": [
    "len(t)"
   ]
  },
  {
   "cell_type": "code",
   "execution_count": null,
   "id": "8d98c686",
   "metadata": {},
   "outputs": [],
   "source": [
    "len(s)"
   ]
  },
  {
   "cell_type": "code",
   "execution_count": null,
   "id": "5c6ac7e0",
   "metadata": {},
   "outputs": [],
   "source": [
    "len(d)"
   ]
  },
  {
   "cell_type": "code",
   "execution_count": null,
   "id": "0f625d39",
   "metadata": {},
   "outputs": [],
   "source": [
    "len(r)"
   ]
  },
  {
   "cell_type": "code",
   "execution_count": null,
   "id": "24948d6f",
   "metadata": {},
   "outputs": [],
   "source": [
    "# checking the contents of the price list\n",
    "p"
   ]
  },
  {
   "cell_type": "code",
   "execution_count": null,
   "id": "454f4610",
   "metadata": {},
   "outputs": [],
   "source": [
    "# using list comprehension to contol for current advertised price\n",
    "myList = 'The price is'\n",
    "pr = [x for x in p if re.search(myList, x)]\n",
    "len(pr)"
   ]
  },
  {
   "cell_type": "code",
   "execution_count": null,
   "id": "b3e8e58c",
   "metadata": {},
   "outputs": [],
   "source": [
    "# adding the sold out list to the price list since the sold out hotels don't have prices listed\n",
    "pri = pr + s\n",
    "len(pri)"
   ]
  },
  {
   "cell_type": "code",
   "execution_count": null,
   "id": "63833dda",
   "metadata": {},
   "outputs": [],
   "source": [
    "# same process for total price\n",
    "t"
   ]
  },
  {
   "cell_type": "code",
   "execution_count": null,
   "id": "6cdb3d54",
   "metadata": {},
   "outputs": [],
   "source": [
    "# list comprehension\n",
    "myPhrase = \"total\"\n",
    "to = [x for x in t if re.findall(myPhrase, x)]\n",
    "len(to)"
   ]
  },
  {
   "cell_type": "code",
   "execution_count": null,
   "id": "fa73d3a0",
   "metadata": {},
   "outputs": [],
   "source": [
    "# list concatenation\n",
    "tot = to + s\n",
    "len(tot)"
   ]
  },
  {
   "cell_type": "code",
   "execution_count": null,
   "id": "bf4dc692",
   "metadata": {},
   "outputs": [],
   "source": [
    "# adding the lists to a df now that they are all the same length\n",
    "hotels_df = pd.DataFrame({\n",
    "    \"Hotel Name\": hn,\n",
    "    \"Advertised Price\": pri,\n",
    "    \"Total Price\": tot\n",
    "})\n",
    "hotels_df"
   ]
  },
  {
   "cell_type": "code",
   "execution_count": null,
   "id": "2ac1f893",
   "metadata": {},
   "outputs": [],
   "source": [
    "# making the df into a csv and naming it by date\n",
    "hotels_df.to_csv(\"HotelData/June30_expedia.csv\", index=False, header=True)"
   ]
  },
  {
   "cell_type": "code",
   "execution_count": null,
   "id": "dd236819",
   "metadata": {},
   "outputs": [],
   "source": [
    "browser.quit()"
   ]
  },
  {
   "cell_type": "code",
   "execution_count": null,
   "id": "237d99e8",
   "metadata": {},
   "outputs": [],
   "source": []
  }
 ],
 "metadata": {
  "kernelspec": {
   "display_name": "PythonData",
   "language": "python",
   "name": "pythondata"
  },
  "language_info": {
   "codemirror_mode": {
    "name": "ipython",
    "version": 3
   },
   "file_extension": ".py",
   "mimetype": "text/x-python",
   "name": "python",
   "nbconvert_exporter": "python",
   "pygments_lexer": "ipython3",
   "version": "3.10.11"
  }
 },
 "nbformat": 4,
 "nbformat_minor": 5
}
