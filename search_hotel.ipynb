{
 "cells": [
  {
   "cell_type": "code",
   "execution_count": 128,
   "id": "61174481",
   "metadata": {},
   "outputs": [],
   "source": [
    "import pandas as pd\n",
    "from splinter import Browser\n",
    "from bs4 import BeautifulSoup\n",
    "from selenium import webdriver"
   ]
  },
  {
   "cell_type": "code",
   "execution_count": 129,
   "id": "5dab0b3d",
   "metadata": {},
   "outputs": [],
   "source": [
    "browser = Browser('chrome')"
   ]
  },
  {
   "cell_type": "code",
   "execution_count": 130,
   "id": "d29469f3",
   "metadata": {},
   "outputs": [],
   "source": [
    "url = \"https://www.expedia.com/Hotel-Search?adults=2&d1=2023-06-05&d2=2023-06-06&destination=New%20York%20%28and%20vicinity%29%2C%20New%20York%2C%20United%20States%20of%20America&endDate=2023-06-06&latLong=40.75668%2C-73.98647&regionId=178293&rooms=1&semdtl=&sort=RECOMMENDED&startDate=2023-06-05&theme=&useRewards=false&userIntent=\""
   ]
  },
  {
   "cell_type": "code",
   "execution_count": 131,
   "id": "4d2557f3",
   "metadata": {},
   "outputs": [
    {
     "ename": "NameError",
     "evalue": "name 'By' is not defined",
     "output_type": "error",
     "traceback": [
      "\u001b[0;31m---------------------------------------------------------------------------\u001b[0m",
      "\u001b[0;31mNameError\u001b[0m                                 Traceback (most recent call last)",
      "\u001b[0;32m/var/folders/n3/0fjc3g9d04gb6vgxphygsqj80000gn/T/ipykernel_34064/2407587422.py\u001b[0m in \u001b[0;36m<module>\u001b[0;34m\u001b[0m\n\u001b[1;32m      5\u001b[0m \u001b[0;31m# Get button and click it\u001b[0m\u001b[0;34m\u001b[0m\u001b[0;34m\u001b[0m\u001b[0m\n\u001b[1;32m      6\u001b[0m \u001b[0mxpath\u001b[0m\u001b[0;34m=\u001b[0m\u001b[0;34m'//*[@id=\"app-layer-base\"]/div[1]/main/div/div/div/div/div[2]/section[2]/div/div[2]/div/div[2]/div[1]/section/button'\u001b[0m\u001b[0;34m\u001b[0m\u001b[0;34m\u001b[0m\u001b[0m\n\u001b[0;32m----> 7\u001b[0;31m \u001b[0mpython_button\u001b[0m \u001b[0;34m=\u001b[0m \u001b[0mdriver\u001b[0m\u001b[0;34m.\u001b[0m\u001b[0mfind_element\u001b[0m\u001b[0;34m(\u001b[0m\u001b[0mby\u001b[0m\u001b[0;34m=\u001b[0m\u001b[0mBy\u001b[0m\u001b[0;34m.\u001b[0m\u001b[0mXPATH\u001b[0m\u001b[0;34m,\u001b[0m \u001b[0mvalue\u001b[0m\u001b[0;34m=\u001b[0m\u001b[0mxpath\u001b[0m\u001b[0;34m)\u001b[0m\u001b[0;34m\u001b[0m\u001b[0;34m\u001b[0m\u001b[0m\n\u001b[0m\u001b[1;32m      8\u001b[0m \u001b[0;34m\u001b[0m\u001b[0m\n\u001b[1;32m      9\u001b[0m \u001b[0mpython_button\u001b[0m\u001b[0;34m.\u001b[0m\u001b[0mclick\u001b[0m\u001b[0;34m(\u001b[0m\u001b[0;34m)\u001b[0m \u001b[0;31m#click load more button\u001b[0m\u001b[0;34m\u001b[0m\u001b[0;34m\u001b[0m\u001b[0m\n",
      "\u001b[0;31mNameError\u001b[0m: name 'By' is not defined"
     ]
    }
   ],
   "source": [
    "driver = webdriver.Chrome()\n",
    "driver.implicitly_wait(30)\n",
    "driver.get(url)\n",
    "\n",
    "# Get button and click it\n",
    "xpath='//*[@id=\"app-layer-base\"]/div[1]/main/div/div/div/div/div[2]/section[2]/div/div[2]/div/div[2]/div[1]/section/button'\n",
    "python_button = driver.find_element_by_xpath(xpath)\n",
    "python_button.click() #click load more button\n",
    "soup=BeautifulSoup(driver.page_source)\n",
    "\n",
    "#browser.visit(url)\n",
    "#html = browser.html"
   ]
  },
  {
   "cell_type": "code",
   "execution_count": null,
   "id": "a69efb4e",
   "metadata": {},
   "outputs": [],
   "source": [
    "#soup = BeautifulSoup(html, 'html.parser')\n",
    "#hotels = soup.find_all('h2')\n",
    "hotels = [result.getText() for result in soup.find_all('h4', class_=\"uitk-heading uitk-heading-5 overflow-wrap\")]\n",
    "reviews = [reviewDiv.find('span').getText() for reviewDiv in soup.find_all('div', class_=\"uitk-layout-flex uitk-layout-flex-align-items-flex-start\")]\n",
    "#for hotel in hotels:\n",
    "#    print(hotel.getText())"
   ]
  },
  {
   "cell_type": "code",
   "execution_count": null,
   "id": "cafe9c15",
   "metadata": {},
   "outputs": [],
   "source": [
    "\n",
    "hotel_df = pd.DataFrame({\"hotel\":hotels, \"review\":reviews})\n",
    "hotel_df.head()"
   ]
  },
  {
   "cell_type": "code",
   "execution_count": null,
   "id": "f823652a",
   "metadata": {},
   "outputs": [],
   "source": [
    "browser.quit()"
   ]
  },
  {
   "cell_type": "code",
   "execution_count": null,
   "id": "99a205cb",
   "metadata": {},
   "outputs": [],
   "source": []
  }
 ],
 "metadata": {
  "kernelspec": {
   "display_name": "Python 3 (ipykernel)",
   "language": "python",
   "name": "python3"
  },
  "language_info": {
   "codemirror_mode": {
    "name": "ipython",
    "version": 3
   },
   "file_extension": ".py",
   "mimetype": "text/x-python",
   "name": "python",
   "nbconvert_exporter": "python",
   "pygments_lexer": "ipython3",
   "version": "3.9.13"
  }
 },
 "nbformat": 4,
 "nbformat_minor": 5
}
