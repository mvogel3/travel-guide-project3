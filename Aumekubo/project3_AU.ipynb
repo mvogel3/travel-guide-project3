{
 "cells": [
  {
   "cell_type": "markdown",
   "id": "61c2299a",
   "metadata": {},
   "source": [
    "Requirements\n",
    "For Project 3, you will work with your group to tell a story using data visualizations. Here are the specific requirements:\n",
    "\n",
    "Your visualization must include a Python Flask-powered API, HTML/CSS, JavaScript, and at least one database (SQL, MongoDB, SQLite, etc.).\n",
    "\n",
    "Your project should fall into one of the following three tracks:\n",
    "\n",
    "A combination of web scraping and Leaflet or Plotly\n",
    "\n",
    "A dashboard page with multiple charts that update from the same data\n",
    "\n",
    "A server that performs multiple manipulations on data in a database prior to visualization (must be approved)\n",
    "\n",
    "Your project should include at least one JS library that we did not cover.\n",
    "\n",
    "Your project must be powered by a dataset with at least 100 records.\n",
    "\n",
    "Your project must include some level of user-driven interaction (e.g., menus, dropdowns, textboxes).\n",
    "\n",
    "Your final visualization should ideally include at least three views."
   ]
  },
  {
   "cell_type": "code",
   "execution_count": 4,
   "id": "365e7806",
   "metadata": {},
   "outputs": [],
   "source": [
    "#all dependecias imports\n",
    "import pprint\n",
    "from amadeus import Client, ResponseError\n",
    "import logging\n",
    "from amadeus_keys import client_id, client_secret\n",
    "from flask import Flask, jsonify, render_template\n",
    "import numpy as np\n",
    "import pandas as pd\n",
    "import datetime as dt\n",
    "import sqlalchemy\n",
    "from sqlalchemy.ext.automap import automap_base\n",
    "from sqlalchemy.orm import Session\n",
    "from sqlalchemy import create_engine, func\n",
    "\n"
   ]
  },
  {
   "cell_type": "code",
   "execution_count": 5,
   "id": "ff767df7",
   "metadata": {},
   "outputs": [
    {
     "ename": "NameError",
     "evalue": "name 'true' is not defined",
     "output_type": "error",
     "traceback": [
      "\u001b[1;31m---------------------------------------------------------------------------\u001b[0m",
      "\u001b[1;31mNameError\u001b[0m                                 Traceback (most recent call last)",
      "\u001b[1;32m~\\AppData\\Local\\Temp\\ipykernel_31512\\3620244888.py\u001b[0m in \u001b[0;36m<module>\u001b[1;34m\u001b[0m\n\u001b[0;32m     44\u001b[0m \u001b[1;33m\u001b[0m\u001b[0m\n\u001b[0;32m     45\u001b[0m \u001b[1;32mif\u001b[0m \u001b[0m__name__\u001b[0m \u001b[1;33m==\u001b[0m \u001b[1;34m'__main__'\u001b[0m\u001b[1;33m:\u001b[0m\u001b[1;33m\u001b[0m\u001b[1;33m\u001b[0m\u001b[0m\n\u001b[1;32m---> 46\u001b[1;33m     \u001b[0mapp\u001b[0m\u001b[1;33m.\u001b[0m\u001b[0mrun\u001b[0m\u001b[1;33m(\u001b[0m\u001b[0mdebug\u001b[0m\u001b[1;33m=\u001b[0m\u001b[0mtrue\u001b[0m\u001b[1;33m)\u001b[0m\u001b[1;33m\u001b[0m\u001b[1;33m\u001b[0m\u001b[0m\n\u001b[0m",
      "\u001b[1;31mNameError\u001b[0m: name 'true' is not defined"
     ]
    }
   ],
   "source": [
    "#make an API call and visualize it using Flask API\n",
    "app = Flask(__name__) # need to create a file for the app to set up the application \n",
    "\n",
    "amadeus = Client(\n",
    "    client_id=client_id,\n",
    "    client_secret=client_secret\n",
    ")\n",
    "\n",
    "locations = [\n",
    "    {'latitude': 40.7128, 'longitude': -74.0060, 'name': 'New York City'},\n",
    "    {'latitude': 40.9136005, 'longitude': -73.8290816, 'name': 'Mount Vernon'},\n",
    "    {'latitude': 40.033985, 'longitude': -73.762909, 'name': 'White Plains'},\n",
    "    {'latitude': 40.9025, 'longitude': -73.9247, 'name': 'Yonkers'},\n",
    "    {'latitude': 40.9232, 'longitude': -73.7793, 'name': 'New Rochelle'},\n",
    "    {'latitude': 40.7127, 'longitude': -73.0737, 'name': 'Jersey City'},\n",
    "    {'latitude': 40.7094091, 'longitude': -74.2095504, 'name': 'Newark'},\n",
    "    {'latitude': 41.1936893070528, 'longitude': -73.1972645346039, 'name': 'Bridgeport'},\n",
    "    {'latitude': 41.0376034, 'longitude': -73.6243386, 'name': 'Greenwich'}\n",
    "]\n",
    "\n",
    "# Define your SQLAlchemy and Amadeus configuration and setup here\n",
    "\n",
    "@app.route('/')\n",
    "def index():\n",
    "    try:\n",
    "        data = []\n",
    "        for location in locations:\n",
    "            response = amadeus.reference_data.locations.points_of_interest.get(\n",
    "                latitude=location['latitude'],\n",
    "                longitude=location['longitude']\n",
    "            )\n",
    "            points_of_interest = response.data\n",
    "\n",
    "            location_data = {\n",
    "                'name': location['name'],\n",
    "                'points_of_interest': points_of_interest\n",
    "            }\n",
    "            data.append(location_data)\n",
    "\n",
    "        return jsonify(data)\n",
    "\n",
    "    except ResponseError as error:\n",
    "        return jsonify({'error': str(error)})\n",
    "\n",
    "if __name__ == '__main__':\n",
    "    app.run(debug=true)"
   ]
  },
  {
   "cell_type": "code",
   "execution_count": null,
   "id": "5394ed77",
   "metadata": {},
   "outputs": [],
   "source": [
    "#make an API call and visualize it using Flask API\n",
    "app = Flask(__name__)\n",
    "\n",
    "# reflect the database tables\n",
    "Base = automap_base()\n",
    "\n",
    "# reflect the tables\n",
    "Base.prepare(autoload_with=engine)\n",
    "\n",
    "# Save references to each table\n",
    "Restaurant = Base.classes.restaurant\n",
    "Sights = Base.classes.sights\n",
    "Shopping = Base.classes.shopping\n",
    "\n",
    "# Create our session (link) from Python to the DB\n",
    "session = Session(engine)\n",
    "\n",
    "\n",
    "\n",
    "\n",
    "amadeus = Client(\n",
    "    client_id=client_id,\n",
    "    client_secret=client_secret\n",
    ")\n",
    "\n",
    "locations = [\n",
    "    {'latitude': 40.7128, 'longitude': -74.0060, 'name': 'New York City'},\n",
    "    {'latitude': 40.9136005, 'longitude': -73.8290816, 'name': 'Mount Vernon'},\n",
    "    {'latitude': 40.033985, 'longitude': -73.762909, 'name': 'White Plains'},\n",
    "    {'latitude': 40.9025, 'longitude': -73.9247, 'name': 'Yonkers'},\n",
    "    {'latitude': 40.9232, 'longitude': -73.7793, 'name': 'New Rochelle'},\n",
    "    {'latitude': 40.7127, 'longitude': -73.0737, 'name': 'Jersey City'},\n",
    "    {'latitude': 40.7094091, 'longitude': -74.2095504, 'name': 'Newark'},\n",
    "    {'latitude': 41.1936893070528, 'longitude': -73.1972645346039, 'name': 'Bridgeport'},\n",
    "    {'latitude': 41.0376034, 'longitude': -73.6243386, 'name': 'Greenwich'}\n",
    "]\n",
    "\n",
    "try:\n",
    "    for location in locations:\n",
    "        response = amadeus.reference_data.locations.points_of_interest.get(\n",
    "            latitude=location['latitude'],\n",
    "            longitude=location['longitude']\n",
    "        )\n",
    "        points_of_interest = response.data\n",
    "        print(f\"Points of interest for {location['name']}:\")\n",
    "        for poi in points_of_interest:\n",
    "            print(\"Name:\", poi['name'])\n",
    "            print(\"Category:\", poi['category'])\n",
    "            print(\"Tags:\", poi['tags'])\n",
    "            print()  # Separate each point of interest by a blank line\n",
    "        print()\n",
    "\n",
    "except ResponseError as error:\n",
    "    print(error.response.body)\n",
    "    raise error\n",
    "\n",
    "\n"
   ]
  },
  {
   "cell_type": "code",
   "execution_count": 7,
   "id": "e3ec4c9a",
   "metadata": {},
   "outputs": [
    {
     "name": "stdout",
     "output_type": "stream",
     "text": [
      "113\n"
     ]
    }
   ],
   "source": [
    "words = ['mall', 'shopping', 'sightseeing', 'museum', 'sights', 'building', 'commercialplace', 'landmark', 'tourguide', 'clothing', 'professionalservices', 'activities']\n",
    "\n",
    "total_attractions = 0\n",
    "for word in words:\n",
    "    total_attractions += len(word)\n",
    "\n",
    "print(total_attractions)\n",
    "\n"
   ]
  },
  {
   "cell_type": "code",
   "execution_count": null,
   "id": "a36028e1",
   "metadata": {},
   "outputs": [],
   "source": [
    "\n"
   ]
  }
 ],
 "metadata": {
  "kernelspec": {
   "display_name": "Python 3 (ipykernel)",
   "language": "python",
   "name": "python3"
  },
  "language_info": {
   "codemirror_mode": {
    "name": "ipython",
    "version": 3
   },
   "file_extension": ".py",
   "mimetype": "text/x-python",
   "name": "python",
   "nbconvert_exporter": "python",
   "pygments_lexer": "ipython3",
   "version": "3.9.13"
  }
 },
 "nbformat": 4,
 "nbformat_minor": 5
}
