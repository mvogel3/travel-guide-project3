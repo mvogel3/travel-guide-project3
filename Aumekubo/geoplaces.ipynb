{
 "cells": [
  {
   "cell_type": "code",
   "execution_count": null,
   "id": "68d2db9f",
   "metadata": {},
   "outputs": [],
   "source": [
    "from flask import Flask, jsonify, render_template, request, redirect\n",
    "import requests\n",
    "\n",
    "app = Flask(__name__)\n",
    "\n",
    "@app.route('/')\n",
    "def index():\n",
    "    # Set the geographical coordinates\n",
    "    cities_lat = [{'latitude': 40.7128, 'longitude': -74.0060, 'name': 'New York City'}]\n",
    "\n",
    "    # Set the parameters for the type of place\n",
    "    categories = \"catering\"\n",
    "    conditions = \"vegetarian\"\n",
    "    radius = 8000\n",
    "\n",
    "    # Loop through the cities\n",
    "    for city in cities_lat:\n",
    "        latitude = city['latitude']\n",
    "        longitude = city['longitude']\n",
    "        city_name = city['name']\n",
    "\n",
    "        # Set the parameters for the type of search\n",
    "        filters = f\"circle:{longitude},{latitude},{radius}\"\n",
    "        bias = f\"proximity:{longitude},{latitude}\"\n",
    "        limit = 20\n",
    "\n",
    "        # Set up a parameters dictionary\n",
    "        params = {\n",
    "            \"categories\": categories,\n",
    "            \"conditions\": conditions,\n",
    "            \"limit\": limit,\n",
    "            \"filter\": filters,\n",
    "            \"bias\": bias,\n",
    "            \"apiKey\": \"be13e77afa4d4c778e3673d5943b0949\"\n",
    "        }\n",
    "\n",
    "        # Set base URL\n",
    "        base_url = \"https://api.geoapify.com/v2/places\"\n",
    "\n",
    "        # Make a request using our params dictionary\n",
    "        response = requests.get(base_url, params=params)\n",
    "\n",
    "        # Process the response or do something with the data\n",
    "        # For example, you can print the city name and the response\n",
    "        print(city_name)\n",
    "        print(response.json())\n",
    "\n",
    "    return \"API calls completed\"\n",
    "\n",
    "if __name__ == \"__main__\":\n",
    "    app.run()\n"
   ]
  },
  {
   "cell_type": "code",
   "execution_count": null,
   "id": "623505a5",
   "metadata": {},
   "outputs": [],
   "source": []
  }
 ],
 "metadata": {
  "kernelspec": {
   "display_name": "Python 3 (ipykernel)",
   "language": "python",
   "name": "python3"
  },
  "language_info": {
   "codemirror_mode": {
    "name": "ipython",
    "version": 3
   },
   "file_extension": ".py",
   "mimetype": "text/x-python",
   "name": "python",
   "nbconvert_exporter": "python",
   "pygments_lexer": "ipython3",
   "version": "3.9.13"
  }
 },
 "nbformat": 4,
 "nbformat_minor": 5
}
