{
 "cells": [
  {
   "cell_type": "code",
   "execution_count": 24,
   "id": "272f989e",
   "metadata": {},
   "outputs": [],
   "source": [
    "import pandas as pd\n",
    "from splinter import Browser\n",
    "from bs4 import BeautifulSoup\n",
    "import time"
   ]
  },
  {
   "cell_type": "code",
   "execution_count": 25,
   "id": "2577c9a8",
   "metadata": {},
   "outputs": [],
   "source": [
    "browser = Browser('chrome')"
   ]
  },
  {
   "cell_type": "code",
   "execution_count": 26,
   "id": "7dd14cd6",
   "metadata": {},
   "outputs": [],
   "source": [
    "url = \"https://www.expedia.com/Hotel-Search?adults=2&d1=2023-06-05&d2=2023-06-06&destination=New%20York%20%28and%20vicinity%29%2C%20New%20York%2C%20United%20States%20of%20America&endDate=2023-06-06&latLong=40.75668%2C-73.98647&regionId=178293&rooms=1&semdtl=&sort=RECOMMENDED&startDate=2023-06-05&theme=&useRewards=false&userIntent=\""
   ]
  },
  {
   "cell_type": "code",
   "execution_count": 27,
   "id": "733e5eac",
   "metadata": {},
   "outputs": [],
   "source": [
    "\n",
    "browser.visit(url)\n",
    "time.sleep(5)\n",
    "for i in range(1,5): \n",
    "    browser.find_by_css('button[data-stid=show-more-results]').click()\n",
    "    time.sleep(5)\n",
    "\n",
    "soup=BeautifulSoup(browser.html, 'html.parser')\n",
    "\n",
    "\n",
    "#browser.visit(url)\n",
    "html = browser.html\n",
    "#html\n",
    "#h = soup.find_all('h4', class_=\"uitk-heading uitk-heading-5 overflow-wrap uitk-layout-grid-item uitk-layout-grid-item-has-row-start\")\n",
    "#len(h)\n",
    "\n",
    "hotels = [result.text for result in soup.find_all('h4', class_=\"uitk-heading uitk-heading-5 overflow-wrap uitk-layout-grid-item uitk-layout-grid-item-has-row-start\")]\n",
    "reviews = [reviewDiv.find('span', class_=\"is-visually-hidden\") for reviewDiv in soup.find_all('div', class_=\"uitk-layout-flex uitk-layout-flex-align-items-flex-start\")]"
   ]
  },
  {
   "cell_type": "code",
   "execution_count": 28,
   "id": "8cd22066",
   "metadata": {},
   "outputs": [
    {
     "data": {
      "text/html": [
       "<div>\n",
       "<style scoped>\n",
       "    .dataframe tbody tr th:only-of-type {\n",
       "        vertical-align: middle;\n",
       "    }\n",
       "\n",
       "    .dataframe tbody tr th {\n",
       "        vertical-align: top;\n",
       "    }\n",
       "\n",
       "    .dataframe thead th {\n",
       "        text-align: right;\n",
       "    }\n",
       "</style>\n",
       "<table border=\"1\" class=\"dataframe\">\n",
       "  <thead>\n",
       "    <tr style=\"text-align: right;\">\n",
       "      <th></th>\n",
       "      <th>hotel</th>\n",
       "      <th>review</th>\n",
       "    </tr>\n",
       "  </thead>\n",
       "  <tbody>\n",
       "    <tr>\n",
       "      <th>0</th>\n",
       "      <td>Martinique New York on Broadway, Curio Collect...</td>\n",
       "      <td>[8.6 out of 10 Excellent (1,007 reviews)]</td>\n",
       "    </tr>\n",
       "    <tr>\n",
       "      <th>1</th>\n",
       "      <td>Sonder The Dutch</td>\n",
       "      <td>[8.2 out of 10 Very Good (14 reviews)]</td>\n",
       "    </tr>\n",
       "    <tr>\n",
       "      <th>2</th>\n",
       "      <td>Margaritaville Resort Times Square</td>\n",
       "      <td>[9.0 out of 10 Wonderful (1,938 reviews)]</td>\n",
       "    </tr>\n",
       "    <tr>\n",
       "      <th>3</th>\n",
       "      <td>PUBLIC, an Ian Schrager hotel</td>\n",
       "      <td>[8.0 out of 10 Very Good (1,590 reviews)]</td>\n",
       "    </tr>\n",
       "    <tr>\n",
       "      <th>4</th>\n",
       "      <td>YOTEL New York Times Square</td>\n",
       "      <td>[7.0 out of 10 Good (1,852 reviews)]</td>\n",
       "    </tr>\n",
       "    <tr>\n",
       "      <th>...</th>\n",
       "      <td>...</td>\n",
       "      <td>...</td>\n",
       "    </tr>\n",
       "    <tr>\n",
       "      <th>95</th>\n",
       "      <td>LUMA Hotel Times Square</td>\n",
       "      <td>[9.4 out of 10 Exceptional (1,003 reviews)]</td>\n",
       "    </tr>\n",
       "    <tr>\n",
       "      <th>96</th>\n",
       "      <td>Hotel Richland LES</td>\n",
       "      <td>[8.6 out of 10 Excellent (103 reviews)]</td>\n",
       "    </tr>\n",
       "    <tr>\n",
       "      <th>97</th>\n",
       "      <td>Pestana Park Avenue</td>\n",
       "      <td>[8.8 out of 10 Excellent (337 reviews)]</td>\n",
       "    </tr>\n",
       "    <tr>\n",
       "      <th>98</th>\n",
       "      <td>The Kitano Hotel New York</td>\n",
       "      <td>[9.0 out of 10 Wonderful (1,002 reviews)]</td>\n",
       "    </tr>\n",
       "    <tr>\n",
       "      <th>99</th>\n",
       "      <td>The Gallivant Times Square</td>\n",
       "      <td>[6.4 out of 10 (2,091 reviews)]</td>\n",
       "    </tr>\n",
       "  </tbody>\n",
       "</table>\n",
       "<p>100 rows × 2 columns</p>\n",
       "</div>"
      ],
      "text/plain": [
       "                                                hotel  \\\n",
       "0   Martinique New York on Broadway, Curio Collect...   \n",
       "1                                    Sonder The Dutch   \n",
       "2                  Margaritaville Resort Times Square   \n",
       "3                       PUBLIC, an Ian Schrager hotel   \n",
       "4                         YOTEL New York Times Square   \n",
       "..                                                ...   \n",
       "95                            LUMA Hotel Times Square   \n",
       "96                                 Hotel Richland LES   \n",
       "97                                Pestana Park Avenue   \n",
       "98                          The Kitano Hotel New York   \n",
       "99                         The Gallivant Times Square   \n",
       "\n",
       "                                         review  \n",
       "0     [8.6 out of 10 Excellent (1,007 reviews)]  \n",
       "1        [8.2 out of 10 Very Good (14 reviews)]  \n",
       "2     [9.0 out of 10 Wonderful (1,938 reviews)]  \n",
       "3     [8.0 out of 10 Very Good (1,590 reviews)]  \n",
       "4          [7.0 out of 10 Good (1,852 reviews)]  \n",
       "..                                          ...  \n",
       "95  [9.4 out of 10 Exceptional (1,003 reviews)]  \n",
       "96      [8.6 out of 10 Excellent (103 reviews)]  \n",
       "97      [8.8 out of 10 Excellent (337 reviews)]  \n",
       "98    [9.0 out of 10 Wonderful (1,002 reviews)]  \n",
       "99              [6.4 out of 10 (2,091 reviews)]  \n",
       "\n",
       "[100 rows x 2 columns]"
      ]
     },
     "execution_count": 28,
     "metadata": {},
     "output_type": "execute_result"
    }
   ],
   "source": [
    "hotel_df = pd.DataFrame({\"hotel\":hotels, \"review\":reviews})\n",
    "hotel_df"
   ]
  },
  {
   "cell_type": "code",
   "execution_count": 29,
   "id": "5ee90d95",
   "metadata": {},
   "outputs": [],
   "source": [
    "browser.quit()"
   ]
  },
  {
   "cell_type": "code",
   "execution_count": null,
   "id": "a39c1091",
   "metadata": {},
   "outputs": [],
   "source": []
  }
 ],
 "metadata": {
  "kernelspec": {
   "display_name": "Python 3 (ipykernel)",
   "language": "python",
   "name": "python3"
  },
  "language_info": {
   "codemirror_mode": {
    "name": "ipython",
    "version": 3
   },
   "file_extension": ".py",
   "mimetype": "text/x-python",
   "name": "python",
   "nbconvert_exporter": "python",
   "pygments_lexer": "ipython3",
   "version": "3.9.13"
  }
 },
 "nbformat": 4,
 "nbformat_minor": 5
}
