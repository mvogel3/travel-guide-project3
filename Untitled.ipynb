{
 "cells": [
  {
   "cell_type": "code",
   "execution_count": 1,
   "id": "001d2b8a",
   "metadata": {},
   "outputs": [],
   "source": [
    "# Importing Splinter and BeautifulSoup\n",
    "from splinter import Browser\n",
    "from bs4 import BeautifulSoup as soup"
   ]
  },
  {
   "cell_type": "code",
   "execution_count": 6,
   "id": "f5593b65",
   "metadata": {},
   "outputs": [],
   "source": [
    "browser = Browser('chrome')"
   ]
  },
  {
   "cell_type": "code",
   "execution_count": 7,
   "id": "4b96a150",
   "metadata": {},
   "outputs": [],
   "source": [
    "url = 'https://www.expedia.com/Hotel-Search?HotelID=3016212&adults=2&children=&destination=New%20York%2C%20New%20York%2C%20United%20States%20of%20America&endDate=2023-08-02&gclid=CjwKCAjwpayjBhAnEiwA-7ena7JGaI1rwCkOUycQoEp0ICRA_jkQo7Qt2Wwm4iOrBE-_4GP68HEzBRoC6xIQAvD_BwE&latLong=&locale=en_US&mapBounds=&pwaDialog=&regionId=2621&semcid=US.UB.GOOGLE.PT-c-EN.HOTEL&semdtl=a115093754954.b1127871358663.g1kwd-42777028833.l1.e1c.m1CjwKCAjwpayjBhAnEiwA-7ena7JGaI1rwCkOUycQoEp0ICRA_jkQo7Qt2Wwm4iOrBE-_4GP68HEzBRoC6xIQAvD_BwE.r14d4f421864e74f5bf75be17391f1a3135e350e186a47a1456f6c4f1617a2988c.c10RNuppwrQ5tvtmka9Z9sWg.j19032180.k1.d1558118514604.h1e.i1.n1.o1.p1.q1.s1.t1.x1.f1.u1.v1.w1&siteid=1&sort=PRICE_LOW_TO_HIGH&startDate=2023-08-01&theme=&useRewards=false&userIntent='\n",
    "browser.visit(url)"
   ]
  },
  {
   "cell_type": "code",
   "execution_count": 8,
   "id": "e7dcb089",
   "metadata": {},
   "outputs": [],
   "source": [
    "# Creating a Beautiful Soup object\n",
    "html = browser.html\n",
    "soup = soup(html, 'html.parser')"
   ]
  },
  {
   "cell_type": "code",
   "execution_count": 12,
   "id": "d0af08a8",
   "metadata": {},
   "outputs": [],
   "source": [
    "price = soup.find_all('div', class_=\"uitk-text uitk-type-300 uitk-text-default-theme is-visually-hidden\")"
   ]
  },
  {
   "cell_type": "code",
   "execution_count": 14,
   "id": "91eb281a",
   "metadata": {},
   "outputs": [
    {
     "data": {
      "text/plain": [
       "[<div class=\"uitk-text uitk-type-300 uitk-text-default-theme is-visually-hidden\">The price is $61</div>,\n",
       " <div class=\"uitk-text uitk-type-300 uitk-text-default-theme is-visually-hidden\">The price is $76</div>,\n",
       " <div class=\"uitk-text uitk-type-300 uitk-text-default-theme is-visually-hidden\">The price is $79</div>,\n",
       " <div class=\"uitk-text uitk-type-300 uitk-text-default-theme is-visually-hidden\">The price is $79</div>,\n",
       " <div class=\"uitk-text uitk-type-300 uitk-text-default-theme is-visually-hidden\">The price is $81</div>,\n",
       " <div class=\"uitk-text uitk-type-300 uitk-text-default-theme is-visually-hidden\">The price was $93</div>,\n",
       " <div class=\"uitk-text uitk-type-300 uitk-text-default-theme is-visually-hidden\">The price is $83</div>,\n",
       " <div class=\"uitk-text uitk-type-300 uitk-text-default-theme is-visually-hidden\">The price is $85</div>,\n",
       " <div class=\"uitk-text uitk-type-300 uitk-text-default-theme is-visually-hidden\">The price is $85</div>,\n",
       " <div class=\"uitk-text uitk-type-300 uitk-text-default-theme is-visually-hidden\">The price is $86</div>,\n",
       " <div class=\"uitk-text uitk-type-300 uitk-text-default-theme is-visually-hidden\">The price was $98</div>,\n",
       " <div class=\"uitk-text uitk-type-300 uitk-text-default-theme is-visually-hidden\">The price is $88</div>,\n",
       " <div class=\"uitk-text uitk-type-300 uitk-text-default-theme is-visually-hidden\">The price is $89</div>,\n",
       " <div class=\"uitk-text uitk-type-300 uitk-text-default-theme is-visually-hidden\">The price is $89</div>,\n",
       " <div class=\"uitk-text uitk-type-300 uitk-text-default-theme is-visually-hidden\">The price is $89</div>,\n",
       " <div class=\"uitk-text uitk-type-300 uitk-text-default-theme is-visually-hidden\">The price is $90</div>,\n",
       " <div class=\"uitk-text uitk-type-300 uitk-text-default-theme is-visually-hidden\">The price is $90</div>,\n",
       " <div class=\"uitk-text uitk-type-300 uitk-text-default-theme is-visually-hidden\">The price is $90</div>,\n",
       " <div class=\"uitk-text uitk-type-300 uitk-text-default-theme is-visually-hidden\">The price is $90</div>,\n",
       " <div class=\"uitk-text uitk-type-300 uitk-text-default-theme is-visually-hidden\">The price is $90</div>,\n",
       " <div class=\"uitk-text uitk-type-300 uitk-text-default-theme is-visually-hidden\">The price is $91</div>,\n",
       " <div class=\"uitk-text uitk-type-300 uitk-text-default-theme is-visually-hidden\">The price is $92</div>,\n",
       " <div class=\"uitk-text uitk-type-300 uitk-text-default-theme is-visually-hidden\">The price is $93</div>,\n",
       " <div class=\"uitk-text uitk-type-300 uitk-text-default-theme is-visually-hidden\">The price is $93</div>,\n",
       " <div class=\"uitk-text uitk-type-300 uitk-text-default-theme is-visually-hidden\">The price is $93</div>,\n",
       " <div class=\"uitk-text uitk-type-300 uitk-text-default-theme is-visually-hidden\">The price is $94</div>,\n",
       " <div class=\"uitk-text uitk-type-300 uitk-text-default-theme is-visually-hidden\">The price is $95</div>,\n",
       " <div class=\"uitk-text uitk-type-300 uitk-text-default-theme is-visually-hidden\">The price is $95</div>,\n",
       " <div class=\"uitk-text uitk-type-300 uitk-text-default-theme is-visually-hidden\">The price is $95</div>,\n",
       " <div class=\"uitk-text uitk-type-300 uitk-text-default-theme is-visually-hidden\">The price is $95</div>,\n",
       " <div class=\"uitk-text uitk-type-300 uitk-text-default-theme is-visually-hidden\">The price is $95</div>,\n",
       " <div class=\"uitk-text uitk-type-300 uitk-text-default-theme is-visually-hidden\">The price is $98</div>,\n",
       " <div class=\"uitk-text uitk-type-300 uitk-text-default-theme is-visually-hidden\">The price is $98</div>,\n",
       " <div class=\"uitk-text uitk-type-300 uitk-text-default-theme is-visually-hidden\">The price was $109</div>,\n",
       " <div class=\"uitk-text uitk-type-300 uitk-text-default-theme is-visually-hidden\">The price is $98</div>,\n",
       " <div class=\"uitk-text uitk-type-300 uitk-text-default-theme is-visually-hidden\">The price is $99</div>,\n",
       " <div class=\"uitk-text uitk-type-300 uitk-text-default-theme is-visually-hidden\">The price is $99</div>,\n",
       " <div class=\"uitk-text uitk-type-300 uitk-text-default-theme is-visually-hidden\">The price is $99</div>,\n",
       " <div class=\"uitk-text uitk-type-300 uitk-text-default-theme is-visually-hidden\">The price is $99</div>,\n",
       " <div class=\"uitk-text uitk-type-300 uitk-text-default-theme is-visually-hidden\">The price is $99</div>,\n",
       " <div class=\"uitk-text uitk-type-300 uitk-text-default-theme is-visually-hidden\">The price is $99</div>,\n",
       " <div class=\"uitk-text uitk-type-300 uitk-text-default-theme is-visually-hidden\">The price is $99</div>,\n",
       " <div class=\"uitk-text uitk-type-300 uitk-text-default-theme is-visually-hidden\">The price is $99</div>,\n",
       " <div class=\"uitk-text uitk-type-300 uitk-text-default-theme is-visually-hidden\">The price is $99</div>,\n",
       " <div class=\"uitk-text uitk-type-300 uitk-text-default-theme is-visually-hidden\">The price is $99</div>,\n",
       " <div class=\"uitk-text uitk-type-300 uitk-text-default-theme is-visually-hidden\">The price is $99</div>,\n",
       " <div class=\"uitk-text uitk-type-300 uitk-text-default-theme is-visually-hidden\">The price is $99</div>,\n",
       " <div class=\"uitk-text uitk-type-300 uitk-text-default-theme is-visually-hidden\">The price is $100</div>,\n",
       " <div class=\"uitk-text uitk-type-300 uitk-text-default-theme is-visually-hidden\">The price is $100</div>,\n",
       " <div class=\"uitk-text uitk-type-300 uitk-text-default-theme is-visually-hidden\">The price is $100</div>,\n",
       " <div class=\"uitk-text uitk-type-300 uitk-text-default-theme is-visually-hidden\">The price was $119</div>,\n",
       " <div class=\"uitk-text uitk-type-300 uitk-text-default-theme is-visually-hidden\">The price is $101</div>,\n",
       " <div class=\"uitk-text uitk-type-300 uitk-text-default-theme is-visually-hidden\">The price is $101</div>,\n",
       " <div class=\"uitk-text uitk-type-300 uitk-text-default-theme is-visually-hidden\">The price is $102</div>,\n",
       " <div class=\"uitk-text uitk-type-300 uitk-text-default-theme is-visually-hidden\">The price was $120</div>,\n",
       " <div class=\"uitk-text uitk-type-300 uitk-text-default-theme is-visually-hidden\">The price is $102</div>,\n",
       " <div class=\"uitk-text uitk-type-300 uitk-text-default-theme is-visually-hidden\">The price is $102</div>,\n",
       " <div class=\"uitk-text uitk-type-300 uitk-text-default-theme is-visually-hidden\">The price is $102</div>,\n",
       " <div class=\"uitk-text uitk-type-300 uitk-text-default-theme is-visually-hidden\">The price is $102</div>,\n",
       " <div class=\"uitk-text uitk-type-300 uitk-text-default-theme is-visually-hidden\">The price is $104</div>,\n",
       " <div class=\"uitk-text uitk-type-300 uitk-text-default-theme is-visually-hidden\">The price is $105</div>,\n",
       " <div class=\"uitk-text uitk-type-300 uitk-text-default-theme is-visually-hidden\">The price is $106</div>,\n",
       " <div class=\"uitk-text uitk-type-300 uitk-text-default-theme is-visually-hidden\">The price was $120</div>,\n",
       " <div class=\"uitk-text uitk-type-300 uitk-text-default-theme is-visually-hidden\">The price is $107</div>,\n",
       " <div class=\"uitk-text uitk-type-300 uitk-text-default-theme is-visually-hidden\">The price is $107</div>,\n",
       " <div class=\"uitk-text uitk-type-300 uitk-text-default-theme is-visually-hidden\">The price is $108</div>,\n",
       " <div class=\"uitk-text uitk-type-300 uitk-text-default-theme is-visually-hidden\">The price is $109</div>,\n",
       " <div class=\"uitk-text uitk-type-300 uitk-text-default-theme is-visually-hidden\">The price is $109</div>,\n",
       " <div class=\"uitk-text uitk-type-300 uitk-text-default-theme is-visually-hidden\">The price is $109</div>,\n",
       " <div class=\"uitk-text uitk-type-300 uitk-text-default-theme is-visually-hidden\">The price is $110</div>,\n",
       " <div class=\"uitk-text uitk-type-300 uitk-text-default-theme is-visually-hidden\">The price was $122</div>,\n",
       " <div class=\"uitk-text uitk-type-300 uitk-text-default-theme is-visually-hidden\">The price is $110</div>,\n",
       " <div class=\"uitk-text uitk-type-300 uitk-text-default-theme is-visually-hidden\">The price is $110</div>,\n",
       " <div class=\"uitk-text uitk-type-300 uitk-text-default-theme is-visually-hidden\">The price is $110</div>,\n",
       " <div class=\"uitk-text uitk-type-300 uitk-text-default-theme is-visually-hidden\">The price was $139</div>,\n",
       " <div class=\"uitk-text uitk-type-300 uitk-text-default-theme is-visually-hidden\">The price is $111</div>,\n",
       " <div class=\"uitk-text uitk-type-300 uitk-text-default-theme is-visually-hidden\">The price is $112</div>,\n",
       " <div class=\"uitk-text uitk-type-300 uitk-text-default-theme is-visually-hidden\">The price is $113</div>,\n",
       " <div class=\"uitk-text uitk-type-300 uitk-text-default-theme is-visually-hidden\">The price is $114</div>,\n",
       " <div class=\"uitk-text uitk-type-300 uitk-text-default-theme is-visually-hidden\">The price is $114</div>,\n",
       " <div class=\"uitk-text uitk-type-300 uitk-text-default-theme is-visually-hidden\">The price is $115</div>,\n",
       " <div class=\"uitk-text uitk-type-300 uitk-text-default-theme is-visually-hidden\">The price is $115</div>,\n",
       " <div class=\"uitk-text uitk-type-300 uitk-text-default-theme is-visually-hidden\">The price is $115</div>,\n",
       " <div class=\"uitk-text uitk-type-300 uitk-text-default-theme is-visually-hidden\">The price is $115</div>,\n",
       " <div class=\"uitk-text uitk-type-300 uitk-text-default-theme is-visually-hidden\">The price was $129</div>,\n",
       " <div class=\"uitk-text uitk-type-300 uitk-text-default-theme is-visually-hidden\">The price is $115</div>,\n",
       " <div class=\"uitk-text uitk-type-300 uitk-text-default-theme is-visually-hidden\">The price is $116</div>,\n",
       " <div class=\"uitk-text uitk-type-300 uitk-text-default-theme is-visually-hidden\">The price is $116</div>,\n",
       " <div class=\"uitk-text uitk-type-300 uitk-text-default-theme is-visually-hidden\">The price is $116</div>,\n",
       " <div class=\"uitk-text uitk-type-300 uitk-text-default-theme is-visually-hidden\">The price is $117</div>,\n",
       " <div class=\"uitk-text uitk-type-300 uitk-text-default-theme is-visually-hidden\">The price is $118</div>,\n",
       " <div class=\"uitk-text uitk-type-300 uitk-text-default-theme is-visually-hidden\">The price is $118</div>,\n",
       " <div class=\"uitk-text uitk-type-300 uitk-text-default-theme is-visually-hidden\">The price is $119</div>,\n",
       " <div class=\"uitk-text uitk-type-300 uitk-text-default-theme is-visually-hidden\">The price is $119</div>,\n",
       " <div class=\"uitk-text uitk-type-300 uitk-text-default-theme is-visually-hidden\">The price is $119</div>,\n",
       " <div class=\"uitk-text uitk-type-300 uitk-text-default-theme is-visually-hidden\">The price is $119</div>,\n",
       " <div class=\"uitk-text uitk-type-300 uitk-text-default-theme is-visually-hidden\">The price is $119</div>,\n",
       " <div class=\"uitk-text uitk-type-300 uitk-text-default-theme is-visually-hidden\">The price is $119</div>,\n",
       " <div class=\"uitk-text uitk-type-300 uitk-text-default-theme is-visually-hidden\">The price was $140</div>,\n",
       " <div class=\"uitk-text uitk-type-300 uitk-text-default-theme is-visually-hidden\">The price is $119</div>,\n",
       " <div class=\"uitk-text uitk-type-300 uitk-text-default-theme is-visually-hidden\">The price is $119</div>,\n",
       " <div class=\"uitk-text uitk-type-300 uitk-text-default-theme is-visually-hidden\">The price is $119</div>,\n",
       " <div class=\"uitk-text uitk-type-300 uitk-text-default-theme is-visually-hidden\">The price is $119</div>,\n",
       " <div class=\"uitk-text uitk-type-300 uitk-text-default-theme is-visually-hidden\">The price is $119</div>,\n",
       " <div class=\"uitk-text uitk-type-300 uitk-text-default-theme is-visually-hidden\">The price is $119</div>,\n",
       " <div class=\"uitk-text uitk-type-300 uitk-text-default-theme is-visually-hidden\">The price is $120</div>,\n",
       " <div class=\"uitk-text uitk-type-300 uitk-text-default-theme is-visually-hidden\">The price is $120</div>,\n",
       " <div class=\"uitk-text uitk-type-300 uitk-text-default-theme is-visually-hidden\">The price is $120</div>,\n",
       " <div class=\"uitk-text uitk-type-300 uitk-text-default-theme is-visually-hidden\">The price is $120</div>,\n",
       " <div class=\"uitk-text uitk-type-300 uitk-text-default-theme is-visually-hidden\">The price is $120</div>]"
      ]
     },
     "execution_count": 14,
     "metadata": {},
     "output_type": "execute_result"
    }
   ],
   "source": [
    "price"
   ]
  },
  {
   "cell_type": "code",
   "execution_count": null,
   "id": "651aaf0f",
   "metadata": {},
   "outputs": [],
   "source": []
  }
 ],
 "metadata": {
  "kernelspec": {
   "display_name": "PythonData",
   "language": "python",
   "name": "pythondata"
  },
  "language_info": {
   "codemirror_mode": {
    "name": "ipython",
    "version": 3
   },
   "file_extension": ".py",
   "mimetype": "text/x-python",
   "name": "python",
   "nbconvert_exporter": "python",
   "pygments_lexer": "ipython3",
   "version": "3.10.11"
  }
 },
 "nbformat": 4,
 "nbformat_minor": 5
}
